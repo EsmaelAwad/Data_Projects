{
 "cells": [
  {
   "cell_type": "markdown",
   "id": "d284237d",
   "metadata": {},
   "source": [
    "# import pandas as pd, numpy as np\n",
    "from rapidfuzz import process, utils\n",
    "import matplotlib.pyplot as plt\n",
    "import numpy as np"
   ]
  },
  {
   "cell_type": "code",
   "execution_count": 2,
   "id": "39522d52",
   "metadata": {},
   "outputs": [],
   "source": [
    "data = pd.read_csv('final.csv',index_col = 'Unnamed: 0')\n",
    "df = data"
   ]
  },
  {
   "cell_type": "markdown",
   "id": "bb71b240",
   "metadata": {},
   "source": [
    "# Example of extraction of information related to lat,long data\n",
    "### The address of سمير مجدي مجدي"
   ]
  },
  {
   "cell_type": "code",
   "execution_count": 1,
   "id": "f1e6e6d2",
   "metadata": {},
   "outputs": [
    {
     "data": {
      "text/plain": [
       "{'house_number': '2',\n",
       " 'road': 'طريق قناه السويس',\n",
       " 'hamlet': 'الشاطبى',\n",
       " 'city': 'الإسكندرية',\n",
       " 'state': 'الإسكندرية',\n",
       " 'ISO3166-2-lvl4': 'EG-ALX',\n",
       " 'postcode': '21557',\n",
       " 'country': 'مصر',\n",
       " 'country_code': 'eg'}"
      ]
     },
     "execution_count": 1,
     "metadata": {},
     "output_type": "execute_result"
    }
   ],
   "source": [
    "from geopy.geocoders import Nominatim\n",
    "\n",
    "coordinates = \"31.191351 , 29.923754\"\n",
    "\n",
    "geolocator = Nominatim(user_agent=\"MyApp\")\n",
    "\n",
    "location = geolocator.reverse(coordinates)\n",
    "\n",
    "address = location.raw['address']\n",
    "\n",
    "city = address.get('city', '')\n",
    "state = address.get('state', '')\n",
    "country = address.get('country', '')\n",
    "elements = ['house_number' , 'road','hamlet','city','state']\n",
    "readable_address = f\"{address['house_number']} {address['road']} {address['hamlet']} {address['city']}\"\n",
    "addd = ''\n",
    "for e in elements:\n",
    "    if e in address.keys():\n",
    "        addd += ' ' + str(address[e])\n",
    "address"
   ]
  },
  {
   "cell_type": "markdown",
   "id": "a1b89834",
   "metadata": {},
   "source": [
    "### Extracting addresses of all customers"
   ]
  },
  {
   "cell_type": "code",
   "execution_count": null,
   "id": "8b98e92b",
   "metadata": {},
   "outputs": [],
   "source": [
    "def get_location(lat,lon):\n",
    "    try:\n",
    "        elements = ['house_number' , 'road','hamlet','city']\n",
    "        full_address = ''\n",
    "        coordinates = f\"{lat} , {lon}\"\n",
    "        geolocator = Nominatim(user_agent=\"MyApp\")\n",
    "        location = geolocator.reverse(coordinates)\n",
    "        address = location.raw['address']\n",
    "        for element in elements:\n",
    "            if element in address.keys():\n",
    "                full_address += ' ' + str(address[element])\n",
    "        return full_address\n",
    "    \n",
    "    except:\n",
    "        \n",
    "        return ''"
   ]
  },
  {
   "cell_type": "code",
   "execution_count": null,
   "id": "6b94add8",
   "metadata": {},
   "outputs": [],
   "source": [
    "from datetime import datetime, timedelta\n",
    "#The algorithm returns 5 rows in 2.5 seconds so,,\n",
    "print(f\"The estimated runtime is : {np.round( ( ( ( ( df.shape[0] / 5 ) * 2.5 ) / 60 ) / 60 ) , 2 )} Hours\\n\")\n",
    "user = input(\"Should I proceed? press y to proceed and n to exit: \")\n",
    "if user == 'y':\n",
    "    print(f\"\\nRelax now, The function is working.\\n\\nTime now is: {datetime.now()}\")\n",
    "    print(f\"Comeback at: {datetime.now() + timedelta(hours = np.round( ( ( ( ( df.shape[0] / 5 ) * 2.5 ) / 60 ) / 60 ) , 2 ) )}\")\n",
    "    start = datetime.now()\n",
    "\n",
    "    df['full_address'] = df.apply(lambda x: get_location(x.latitude , x.longitude) , axis = 1)\n",
    "\n",
    "    end = datetime.now()\n",
    "    print(f\"\\nRuntime of the algorithm is: {end - start}\")\n",
    "else:\n",
    "    print(\"\\nYou decided not to run the algorithm\")\n"
   ]
  },
  {
   "cell_type": "markdown",
   "id": "d6b9e205",
   "metadata": {},
   "source": [
    "## Similarity Checking Model"
   ]
  },
  {
   "cell_type": "code",
   "execution_count": null,
   "id": "73f0cc79",
   "metadata": {},
   "outputs": [],
   "source": [
    "def get_whole_info(name,address):\n",
    "    return f\"{name} {address}\"\n",
    "df.columns"
   ]
  },
  {
   "cell_type": "code",
   "execution_count": null,
   "id": "630dde4a",
   "metadata": {},
   "outputs": [],
   "source": [
    "df['Whole Info'] = df.apply(lambda x: get_whole_info(x.new_full_name,x.full_address), axis = 1)"
   ]
  },
  {
   "cell_type": "code",
   "execution_count": null,
   "id": "278a344e",
   "metadata": {},
   "outputs": [],
   "source": [
    "from datetime import datetime\n",
    "start = datetime.now()\n",
    "\n",
    "\n",
    "name_list = df['Whole Info']\n",
    "processed_names = [utils.default_process(name) for name in name_list]\n",
    "\n",
    "for (i, processed_query) in enumerate(processed_names):\n",
    "    # None is skipped by extractOne, so we set the current element to None and\n",
    "    # revert this change after the comparision\n",
    "    processed_names[i] = None\n",
    "    match = process.extractOne(processed_query, processed_names, processor=None, score_cutoff=70)\n",
    "    processed_names[i] = processed_query\n",
    "    if match:\n",
    "        df.loc[i, 'fuzzy_match'] = name_list[match[2]]\n",
    "        df.loc[i, 'fuzzy_match_score'] = match[1]\n",
    "        \n",
    "        \n",
    "end = datetime.now()\n",
    "print(f\"Runtime of the algorithm is: {end - start}\")"
   ]
  },
  {
   "cell_type": "code",
   "execution_count": null,
   "id": "4f1c5b9c",
   "metadata": {},
   "outputs": [],
   "source": [
    "df.loc[ ( df['fuzzy_match_score'] > 90 ) & ( df['fuzzy_match_score'] != 100 )] "
   ]
  },
  {
   "cell_type": "code",
   "execution_count": null,
   "id": "5923574b",
   "metadata": {},
   "outputs": [],
   "source": [
    "df.loc[df['Whole Info'] == 'محمود سليم سليم  شارع مدخل كفر الدوار']\n",
    "#As you can see they have two different names with two different ids"
   ]
  },
  {
   "cell_type": "markdown",
   "id": "2268ab73",
   "metadata": {},
   "source": [
    "## For example the following two entries are not the same strings and the result is 'False'\n",
    "'سليم سليم شارع مدخل كفر الدوار' == 'محمود سليم سليم شارع مدخل كفر الدوار'\n",
    "### Yet they are so close they scored 95%"
   ]
  },
  {
   "cell_type": "code",
   "execution_count": null,
   "id": "2f76230f",
   "metadata": {},
   "outputs": [],
   "source": [
    "fuzzed_ids = pd.merge(df,df,left_on = 'Whole Info', right_on = 'fuzzy_match',\\\n",
    "                     suffixes = ('_original','_fuzzed'))['retailer_id_fuzzed']\n",
    "df['fuzzy_match_id'] = fuzzed_ids\n",
    "df"
   ]
  },
  {
   "cell_type": "code",
   "execution_count": null,
   "id": "0005f72a",
   "metadata": {},
   "outputs": [],
   "source": [
    "df.loc[ ( df['fuzzy_match_score'] > 90 ) & ( df['fuzzy_match_score'] != 100 )] "
   ]
  }
 ],
 "metadata": {
  "kernelspec": {
   "display_name": "Python 3 (ipykernel)",
   "language": "python",
   "name": "python3"
  },
  "language_info": {
   "codemirror_mode": {
    "name": "ipython",
    "version": 3
   },
   "file_extension": ".py",
   "mimetype": "text/x-python",
   "name": "python",
   "nbconvert_exporter": "python",
   "pygments_lexer": "ipython3",
   "version": "3.10.4"
  }
 },
 "nbformat": 4,
 "nbformat_minor": 5
}
